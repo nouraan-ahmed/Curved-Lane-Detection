{
 "cells": [
  {
   "cell_type": "markdown",
   "metadata": {},
   "source": [
    "# Vehicle Detection\n",
    "\n",
    "### Detecting vehicles using SVM and HOG\n",
    "\n",
    "### Outline:\n",
    "    0. Imports\n",
    "    1. Global configration\n",
    "    2. loading images \n",
    "    3. extract color histogram features\n",
    "    4. HOG features and CVTCOLOR\n",
    "    5. get Feature\n",
    "    6. build dataset\n",
    "    7. gets dataset\n",
    "    8. load_scaler & train & test & load ,save_model\n",
    "    9. build_window_list\n",
    "    10. draw_bbox , get_sub_images\n",
    "    11. window_search , multiscale_window_search\n",
    "    12. fast_frame_search\n",
    "    13. build_heatmap , threshold_heat , search_vehicles\n",
    "    14. labels_to_bboxes\n",
    "    15. processing output video\n",
    "    "
   ]
  },
  {
   "cell_type": "markdown",
   "metadata": {},
   "source": [
    "## 0. Imports"
   ]
  },
  {
   "cell_type": "code",
   "execution_count": 1,
   "metadata": {},
   "outputs": [],
   "source": [
    "from collections import deque\n",
    "from glob import glob\n",
    "from moviepy.editor import VideoFileClip\n",
    "from scipy.ndimage.measurements import label\n",
    "from skimage.feature import hog\n",
    "from sklearn.model_selection import train_test_split, GridSearchCV\n",
    "from sklearn.preprocessing import StandardScaler\n",
    "from sklearn.svm import SVC\n",
    "from sklearn.utils import shuffle\n",
    "from tqdm import tqdm\n",
    "\n",
    "import cv2\n",
    "import matplotlib.pyplot as plt\n",
    "import numpy as np\n",
    "import os\n",
    "import pickle "
   ]
  },
  {
   "cell_type": "markdown",
   "metadata": {},
   "source": [
    "## 1. Global configration"
   ]
  },
  {
   "cell_type": "code",
   "execution_count": 2,
   "metadata": {},
   "outputs": [],
   "source": [
    "GLOBAL_CONFIG = {'SAMPLE_SZ':(64,64) ,\n",
    "          'COLORSPACE':'YCrCb',\n",
    "          'SPATIAL_BIN_SZ':(16,16),\n",
    "          'COLOR_BINS':32,\n",
    "          'COLOR_VAL_RANGE':(0,256),\n",
    "          'HOG_CHANNEL':'ALL',\n",
    "          'HOG_ORIENTS':9,\n",
    "          'HOG_PIX_PER_CELL':16,\n",
    "          'HOG_CELLS_PER_BLOCK':1,\n",
    "          'CELLS_PER_STEP':2,\n",
    "          'FRAME_HIST_COUNT':15,\n",
    "          'HEAT_THRESH':6,\n",
    "          'ROIS':[[(0,1280),(400,700)],[(640,1280),(400,650)],[(900,1280),(400,650)]],\n",
    "          'SCALES': [1.5,2,2.5],\n",
    "          'PREDICTION_THRESH':0.7\n",
    "        }\n"
   ]
  },
  {
   "cell_type": "markdown",
   "metadata": {},
   "source": [
    "## 2. loading images "
   ]
  },
  {
   "cell_type": "code",
   "execution_count": 3,
   "metadata": {},
   "outputs": [],
   "source": [
    "def imgread(path):\n",
    "    return cv2.cvtColor(cv2.imread(path),cv2.COLOR_BGR2RGB)\n",
    "\n",
    "def load_image_data(paths):\n",
    "    data = []\n",
    "    for path in paths:\n",
    "        img_data = imgread(path)\n",
    "        data.append(img_data)\n",
    "    return np.array(data,dtype=np.uint8)\n",
    "\n",
    "\n",
    "def extract_spatial_bin_features(img,size):\n",
    "          \n",
    "    return cv2.resize(img,size).flatten()"
   ]
  },
  {
   "cell_type": "markdown",
   "metadata": {},
   "source": [
    "## 3. extract color histogram features"
   ]
  },
  {
   "cell_type": "code",
   "execution_count": null,
   "metadata": {},
   "outputs": [],
   "source": []
  },
  {
   "cell_type": "markdown",
   "metadata": {},
   "source": [
    "## 4. HOG features and CVTCOLOR"
   ]
  },
  {
   "cell_type": "code",
   "execution_count": 4,
   "metadata": {},
   "outputs": [],
   "source": [
    "def extract_hog_features(img_channel,nb_orient, \n",
    "                         nb_pix_per_cell,\n",
    "                         nb_cell_per_block, \n",
    "                         visualize= False, \n",
    "                         ret_vector=True):\n",
    "    \n",
    "    if visualize == True:\n",
    "        features, hog_image = hog(img_channel,orientations=nb_orient,\n",
    "                                  pixels_per_cell= (nb_pix_per_cell,nb_pix_per_cell),\n",
    "                                  cells_per_block = (nb_cell_per_block,nb_cell_per_block),\n",
    "                                  visualize=True,\n",
    "                                  feature_vector=ret_vector)\n",
    "        return features, hog_image\n",
    "    \n",
    "    else:\n",
    "        features  = hog(img_channel,orientations=nb_orient,\n",
    "                                  pixels_per_cell = (nb_pix_per_cell,nb_pix_per_cell),\n",
    "                                  cells_per_block = (nb_cell_per_block,nb_cell_per_block),\n",
    "                                  visualize=False,\n",
    "                                  feature_vector=ret_vector)\n",
    "        return features\n",
    "    \n",
    "    \n",
    "def cvtColor(img,colorspace:str):\n",
    "    if colorspace == 'HSV':\n",
    "        img = cv2.cvtColor(img,cv2.COLOR_RGB2HSV)\n",
    "        \n",
    "    elif colorspace == 'HLS':\n",
    "        img = cv2.cvtColor(img,cv2.COLOR_RGB2HLS)\n",
    "            \n",
    "    elif colorspace == 'LUV':\n",
    "        img = cv2.cvtColor(img, cv2.COLOR_RGB2LUV)\n",
    "        \n",
    "    elif colorspace == 'YUV':\n",
    "        img = cv2.cvtColor(img, cv2.COLOR_RGB2YUV)\n",
    "    \n",
    "    elif colorspace == 'YCrCb':\n",
    "        img = cv2.cvtColor(img, cv2.COLOR_RGB2YCrCb)\n",
    "            \n",
    "    else:\n",
    "        raise Exception(\"% colorspace is not a valid colorspace\"%(colorspace))\n",
    "\n",
    "    return img"
   ]
  },
  {
   "cell_type": "markdown",
   "metadata": {},
   "source": [
    "## 5. Get Features"
   ]
  },
  {
   "cell_type": "code",
   "execution_count": 5,
   "metadata": {},
   "outputs": [],
   "source": [
    "def get_features(img,hog_channel,colorspace):\n",
    "    \n",
    "    if colorspace != 'RGB':\n",
    "        img = cvtColor(img,colorspace)\n",
    "        \n",
    "            \n",
    "    spatial_bin_features = \\\n",
    "    extract_spatial_bin_features(img,size =  GLOBAL_CONFIG['SPATIAL_BIN_SZ'])\n",
    "    \n",
    "    color_hist_features  = \\\n",
    "    extract_color_hist_features(img,\n",
    "                                nbins=GLOBAL_CONFIG['COLOR_BINS'],\n",
    "                                range_vals=GLOBAL_CONFIG['COLOR_VAL_RANGE'])\n",
    "    \n",
    "    if hog_channel == 'ALL':\n",
    "        hog_features = [ ]\n",
    "        \n",
    "        for channel in range(3):\n",
    "            hog_features.append(\n",
    "                    extract_hog_features(\n",
    "                            img[:,:,channel],\n",
    "                            nb_orient=GLOBAL_CONFIG['HOG_ORIENTS'],\n",
    "                            nb_pix_per_cell=GLOBAL_CONFIG['HOG_PIX_PER_CELL'],\n",
    "                            nb_cell_per_block = GLOBAL_CONFIG['HOG_CELLS_PER_BLOCK']))\n",
    "            \n",
    "        hog_features = np.ravel(hog_features)\n",
    "    \n",
    "    else:\n",
    "        hog_features = extract_hog_features(img[:,:,hog_channel],\n",
    "                            nb_orient=GLOBAL_CONFIG['HOG_ORIENTS'],\n",
    "                            nb_pix_per_cell=GLOBAL_CONFIG['HOG_PIX_PER_CELL'],\n",
    "                            nb_cell_per_block = GLOBAL_CONFIG['HOG_CELLS_PER_BLOCK'])\n",
    "    \n",
    "    return np.concatenate((spatial_bin_features,\n",
    "                          color_hist_features,\n",
    "                          hog_features))"
   ]
  }
 ],
 "metadata": {
  "kernelspec": {
   "display_name": "Python 3",
   "language": "python",
   "name": "python3"
  },
  "language_info": {
   "codemirror_mode": {
    "name": "ipython",
    "version": 3
   },
   "file_extension": ".py",
   "mimetype": "text/x-python",
   "name": "python",
   "nbconvert_exporter": "python",
   "pygments_lexer": "ipython3",
   "version": "3.8.5"
  }
 },
 "nbformat": 4,
 "nbformat_minor": 5
}
