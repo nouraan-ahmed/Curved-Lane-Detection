{
 "cells": [
  {
   "cell_type": "markdown",
   "metadata": {},
   "source": [
    "## Importing Packages"
   ]
  },
  {
   "cell_type": "code",
   "execution_count": 6,
   "metadata": {},
   "outputs": [],
   "source": [
    "import numpy as np\n",
    "import cv2\n",
    "import glob\n",
    "import matplotlib.pyplot as plt\n",
    "import os\n",
    "import matplotlib.image as mpimg\n",
    "%matplotlib inline"
   ]
  },
  {
   "cell_type": "markdown",
   "metadata": {},
   "source": [
    "## Camera Calibration"
   ]
  },
  {
   "cell_type": "code",
   "execution_count": 3,
   "metadata": {},
   "outputs": [],
   "source": [
    "objp = np.zeros((6*9,3), np.float32)\n",
    "objp[:,:2] = np.mgrid[0:9, 0:6].T.reshape(-1,2)\n",
    "\n",
    "objpoints = [] # 3d points in real world space\n",
    "imgpoints = [] # 2d points in image plane.\n",
    "\n",
    "# Make a list of calibration images\n",
    "images = glob.glob('camera_cal/calibration*.jpg')\n",
    "\n",
    "# Step through the list and search for chessboard corners\n",
    "for idx, fname in enumerate(images):\n",
    "    img = cv2.imread(fname)\n",
    "    gray = cv2.cvtColor(img, cv2.COLOR_BGR2GRAY)\n",
    "\n",
    "    # Find the chessboard corners\n",
    "    ret, corners = cv2.findChessboardCorners(gray, (9,6), None)\n",
    "\n",
    "    # If found, add object points, image points\n",
    "    if ret == True:\n",
    "        objpoints.append(objp)\n",
    "        imgpoints.append(corners)"
   ]
  },
  {
   "cell_type": "markdown",
   "metadata": {},
   "source": [
    "## UnDistortion Function"
   ]
  },
  {
   "cell_type": "code",
   "execution_count": 4,
   "metadata": {},
   "outputs": [
    {
     "data": {
      "text/plain": [
       "True"
      ]
     },
     "execution_count": 4,
     "metadata": {},
     "output_type": "execute_result"
    }
   ],
   "source": [
    "def undistort_image(image):\n",
    "    img_size = (image.shape[1], image.shape[0])\n",
    "    ret, mtx, dist, rvecs, tvecs = cv2.calibrateCamera(objpoints, imgpoints, img_size,None,None)\n",
    "    return cv2.undistort(image, mtx, dist, None, mtx)\n",
    "#test for the function\n",
    "test_image = cv2.imread(images[0])\n",
    "cv2.imwrite('./output_images/chessboard_before_distortion.jpg', test_image)\n",
    "cv2.imwrite('./output_images/chessboard_after_distortion.jpg', undistort_image(test_image))"
   ]
  },
  {
   "cell_type": "markdown",
   "metadata": {},
   "source": [
    "## Get Images"
   ]
  },
  {
   "cell_type": "code",
   "execution_count": 9,
   "metadata": {},
   "outputs": [],
   "source": [
    "images = []\n",
    "data_path = 'test_images/'\n",
    "out_path = 'output_images/'\n",
    "for file in os.listdir(data_path):\n",
    "    if '.jpg' in file:\n",
    "        image = mpimg.imread(data_path + file)\n",
    "        images.append(image)"
   ]
  },
  {
   "cell_type": "markdown",
   "metadata": {},
   "source": [
    "## Show Images Function"
   ]
  },
  {
   "cell_type": "code",
   "execution_count": 19,
   "metadata": {},
   "outputs": [],
   "source": [
    "def showImages(process,num=len(images), show_gray=False):\n",
    "    for i, image in enumerate(images[0:num]):\n",
    "        f, (ax1, ax2) = plt.subplots(1, 2,figsize=(15,15))\n",
    "        ax1.set_title('Original Image')\n",
    "        ax1.imshow(image) \n",
    "        ax2.set_title('Processed Image')   \n",
    "        processed = process(image)\n",
    "        if show_gray:\n",
    "            ax2.imshow(processed, 'gray')\n",
    "        else:\n",
    "            ax2.imshow(processed)\n",
    "        plt.show()"
   ]
  },
  {
   "cell_type": "markdown",
   "metadata": {},
   "source": [
    "## Compare between normal images and undistorted images"
   ]
  },
  {
   "cell_type": "code",
   "execution_count": 4,
   "metadata": {
    "scrolled": true
   },
   "outputs": [
    {
     "ename": "NameError",
     "evalue": "name 'showImages' is not defined",
     "output_type": "error",
     "traceback": [
      "\u001b[1;31m---------------------------------------------------------------------------\u001b[0m",
      "\u001b[1;31mNameError\u001b[0m                                 Traceback (most recent call last)",
      "Input \u001b[1;32mIn [4]\u001b[0m, in \u001b[0;36m<cell line: 1>\u001b[1;34m()\u001b[0m\n\u001b[1;32m----> 1\u001b[0m \u001b[43mshowImages\u001b[49m(undistort_image)\n",
      "\u001b[1;31mNameError\u001b[0m: name 'showImages' is not defined"
     ]
    }
   ],
   "source": [
    "showImages(undistort_image)"
   ]
  },
  {
   "cell_type": "code",
   "execution_count": null,
   "metadata": {},
   "outputs": [],
   "source": []
  },
  {
   "cell_type": "code",
   "execution_count": 5,
   "metadata": {},
   "outputs": [],
   "source": [
    "## Edge deection using sobel \n",
    "\n",
    "def abs_sobel(image, direction='x', kernel_size=3, thresh_range=(0, 255)):\n",
    "\n",
    "    # Convert to gray scale image \n",
    "    gray_img = cv2.cvtColor(image, cv2.COLOR_RGB2GRAY)\n",
    "    # Apply x or y gradient then take the absolute\n",
    "    if direction == 'x':\n",
    "        sobel_x=cv2.Sobel(gray_img, cv2.CV_64F, 1, 0, ksize=kernel_size)\n",
    "        abs_sobel= np.absolute(sobel_x)\n",
    "    if direction == 'y':\n",
    "        sobel_y = cv2.Sobel(gray_img, cv2.CV_64F, 0, 1, ksize=kernel_size)\n",
    "        abs_sobel = np.absolute(sobel_y)\n",
    "        \n",
    "    # Convert to 'cv2.CV_8U'.\n",
    "    sobel = np.uint8(255*abs_sobel/np.max(abs_sobel))\n",
    "    # Take the same shape and with setting it's values to 0\n",
    "    binary_img = np.zeros_like(sobel)\n",
    "    binary_img[(sobel >= thresh_range[0]) & (sobel <= thresh_range[1])] = 1\n",
    "    \n",
    "    # Black and white output image\n",
    "    return binary_img\n",
    "    \n",
    "    \n",
    "def calc_mag_thresh(image, kernel_size=3, thresh_range=(0, 255)):\n",
    "\n",
    "    # Convert to grayscale\n",
    "    gray_img = cv2.cvtColor(image, cv2.COLOR_RGB2GRAY)\n",
    "    # Calculate Sobel x and y gradients\n",
    "    sobel_x = cv2.Sobel(gray_img, cv2.CV_64F, 1, 0, ksize=kernel_size)\n",
    "    sobel_y = cv2.Sobel(gray_img, cv2.CV_64F, 0, 1, ksize=kernel_size)\n",
    "    # Calculate the gradient magnitude \n",
    "    mag_grad = np.sqrt(sobelx**2 + sobely**2)\n",
    "    # Convert to 'cv2.CV_8U'.\n",
    "    factor = np.max(mag_grad)/255 \n",
    "    mag_grad = (mag_grad/factor).astype(np.uint8) \n",
    "    # Take the same shape and with setting it's values to 0\n",
    "    binary_img = np.zeros_like(mag_grad)\n",
    "    binary_img[(mag_grad >= thresh_range[0]) & (mag_grad <= thresh_range[1])] = 1\n",
    "\n",
    "    # Black and white output image\n",
    "    return binary_img    \n",
    "    \n",
    "    \n",
    "    \n"
   ]
  },
  {
   "cell_type": "code",
   "execution_count": null,
   "metadata": {},
   "outputs": [],
   "source": []
  },
  {
   "cell_type": "code",
   "execution_count": null,
   "metadata": {},
   "outputs": [],
   "source": []
  },
  {
   "cell_type": "code",
   "execution_count": null,
   "metadata": {},
   "outputs": [],
   "source": []
  }
 ],
 "metadata": {
  "kernelspec": {
   "display_name": "Python 3 (ipykernel)",
   "language": "python",
   "name": "python3"
  },
  "language_info": {
   "codemirror_mode": {
    "name": "ipython",
    "version": 3
   },
   "file_extension": ".py",
   "mimetype": "text/x-python",
   "name": "python",
   "nbconvert_exporter": "python",
   "pygments_lexer": "ipython3",
   "version": "3.9.12"
  }
 },
 "nbformat": 4,
 "nbformat_minor": 4
}
